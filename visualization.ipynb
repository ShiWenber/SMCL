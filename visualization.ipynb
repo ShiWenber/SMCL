{
 "cells": [
  {
   "cell_type": "code",
   "execution_count": 2,
   "metadata": {},
   "outputs": [
    {
     "ename": "ModuleNotFoundError",
     "evalue": "No module named 'pandas'",
     "output_type": "error",
     "traceback": [
      "\u001b[0;31m---------------------------------------------------------------------------\u001b[0m",
      "\u001b[0;31mModuleNotFoundError\u001b[0m                       Traceback (most recent call last)",
      "\u001b[0;32m/tmp/ipykernel_8087/3623195152.py\u001b[0m in \u001b[0;36m<module>\u001b[0;34m\u001b[0m\n\u001b[0;32m----> 1\u001b[0;31m \u001b[0;32mimport\u001b[0m \u001b[0mpandas\u001b[0m \u001b[0;32mas\u001b[0m \u001b[0mpd\u001b[0m\u001b[0;34m\u001b[0m\u001b[0;34m\u001b[0m\u001b[0m\n\u001b[0m\u001b[1;32m      2\u001b[0m \u001b[0;32mimport\u001b[0m \u001b[0mmatplotlib\u001b[0m\u001b[0;34m.\u001b[0m\u001b[0mpyplot\u001b[0m \u001b[0;32mas\u001b[0m \u001b[0mplt\u001b[0m\u001b[0;34m\u001b[0m\u001b[0;34m\u001b[0m\u001b[0m\n\u001b[1;32m      3\u001b[0m \u001b[0;34m\u001b[0m\u001b[0m\n\u001b[1;32m      4\u001b[0m \u001b[0mdata\u001b[0m \u001b[0;34m=\u001b[0m \u001b[0mpd\u001b[0m\u001b[0;34m.\u001b[0m\u001b[0mread_csv\u001b[0m\u001b[0;34m(\u001b[0m\u001b[0;34m'logs/Cora_mask1.csv'\u001b[0m\u001b[0;34m)\u001b[0m\u001b[0;34m\u001b[0m\u001b[0;34m\u001b[0m\u001b[0m\n\u001b[1;32m      5\u001b[0m \u001b[0mdata2\u001b[0m \u001b[0;34m=\u001b[0m \u001b[0mpd\u001b[0m\u001b[0;34m.\u001b[0m\u001b[0mread_csv\u001b[0m\u001b[0;34m(\u001b[0m\u001b[0;34m'logs/Cora_mask2.csv'\u001b[0m\u001b[0;34m)\u001b[0m\u001b[0;34m\u001b[0m\u001b[0;34m\u001b[0m\u001b[0m\n",
      "\u001b[0;31mModuleNotFoundError\u001b[0m: No module named 'pandas'"
     ]
    }
   ],
   "source": [
    "import pandas as pd\n",
    "import matplotlib.pyplot as plt\n",
    "\n",
    "data = pd.read_csv('logs/Cora_mask1.csv')\n",
    "data2 = pd.read_csv('logs/Cora_mask2.csv')\n",
    "# 去除最后一行\n",
    "data = data[:-1]\n",
    "data2 = data2[:-1]\n",
    "\n",
    "# 在同一张图上画多个曲线\n",
    "# 设置图的大小和清晰度\n",
    "plt.figure(dpi=600,figsize=(20, 5))\n",
    "plt.plot(data['epoch'], data['loss'], label='mask1')\n",
    "plt.plot(data2['epoch'], data2['loss'], label='mask2')\n",
    "plt.legend()\n",
    "plt.show()"
   ]
  },
  {
   "cell_type": "code",
   "execution_count": 2,
   "metadata": {},
   "outputs": [
    {
     "name": "stderr",
     "output_type": "stream",
     "text": [
      "/opt/conda/envs/graph/lib/python3.8/site-packages/dgl/heterograph.py:72: DGLWarning: Recommend creating graphs by `dgl.graph(data)` instead of `dgl.DGLGraph(data)`.\n",
      "  dgl_warning('Recommend creating graphs by `dgl.graph(data)`'\n"
     ]
    },
    {
     "ename": "AttributeError",
     "evalue": "'Tensor' object has no attribute 'coo'",
     "output_type": "error",
     "traceback": [
      "\u001b[0;31m---------------------------------------------------------------------------\u001b[0m",
      "\u001b[0;31mAttributeError\u001b[0m                            Traceback (most recent call last)",
      "Cell \u001b[0;32mIn[2], line 17\u001b[0m\n\u001b[1;32m     14\u001b[0m adj \u001b[38;5;241m=\u001b[39m g\u001b[38;5;241m.\u001b[39madjacency_matrix()\u001b[38;5;241m.\u001b[39mcoalesce()\u001b[38;5;241m.\u001b[39mto(device)\n\u001b[1;32m     16\u001b[0m \u001b[38;5;66;03m# 使用索引操作获取所有与输入节点相连的节点\u001b[39;00m\n\u001b[0;32m---> 17\u001b[0m rows, cols, _ \u001b[38;5;241m=\u001b[39m \u001b[43madj\u001b[49m\u001b[38;5;241;43m.\u001b[39;49m\u001b[43mcoo\u001b[49m()\n\u001b[1;32m     18\u001b[0m neighs \u001b[38;5;241m=\u001b[39m cols[rows \u001b[38;5;241m==\u001b[39m torch\u001b[38;5;241m.\u001b[39mtensor(input_nodes)\u001b[38;5;241m.\u001b[39mto(device)]\n\u001b[1;32m     20\u001b[0m \u001b[38;5;66;03m# 打印结果\u001b[39;00m\n",
      "\u001b[0;31mAttributeError\u001b[0m: 'Tensor' object has no attribute 'coo'"
     ]
    }
   ],
   "source": [
    "import dgl\n",
    "import torch\n",
    "\n",
    "# 构建有向图\n",
    "g = dgl.DGLGraph()\n",
    "g.add_nodes(5)\n",
    "g.add_edges([0, 1, 1, 2, 3, 4], [1, 2, 3, 0, 4, 0]) # 添加边\n",
    "\n",
    "# 定义输入节点列表\n",
    "input_nodes = [0, 3]\n",
    "\n",
    "# 将邻接矩阵转换为 COO 格式，并移动到 GPU 上\n",
    "device = torch.device('cuda')\n",
    "adj = g.adjacency_matrix().coalesce().to(device)\n",
    "\n",
    "# 使用索引操作获取所有与输入节点相连的节点\n",
    "rows, cols, _ = adj.coo()\n",
    "neighs = cols[rows == torch.tensor(input_nodes).to(device)]\n",
    "\n",
    "# 打印结果\n",
    "print(neighs)"
   ]
  },
  {
   "cell_type": "code",
   "execution_count": 41,
   "metadata": {},
   "outputs": [
    {
     "ename": "NotImplementedError",
     "evalue": "Could not run 'aten::index.Tensor' with arguments from the 'SparseCPU' backend. This could be because the operator doesn't exist for this backend, or was omitted during the selective/custom build process (if using custom build). If you are a Facebook employee using PyTorch on mobile, please visit https://fburl.com/ptmfixes for possible resolutions. 'aten::index.Tensor' is only available for these backends: [CPU, CUDA, QuantizedCPU, BackendSelect, Python, Named, Conjugate, Negative, ADInplaceOrView, AutogradOther, AutogradCPU, AutogradCUDA, AutogradXLA, AutogradLazy, AutogradXPU, AutogradMLC, AutogradHPU, AutogradNestedTensor, AutogradPrivateUse1, AutogradPrivateUse2, AutogradPrivateUse3, Tracer, UNKNOWN_TENSOR_TYPE_ID, Autocast, Batched, VmapMode].\n\nCPU: registered at /opt/conda/conda-bld/pytorch_1639180588308/work/build/aten/src/ATen/RegisterCPU.cpp:18433 [kernel]\nCUDA: registered at /opt/conda/conda-bld/pytorch_1639180588308/work/build/aten/src/ATen/RegisterCUDA.cpp:26496 [kernel]\nQuantizedCPU: registered at /opt/conda/conda-bld/pytorch_1639180588308/work/build/aten/src/ATen/RegisterQuantizedCPU.cpp:1068 [kernel]\nBackendSelect: fallthrough registered at /opt/conda/conda-bld/pytorch_1639180588308/work/aten/src/ATen/core/BackendSelectFallbackKernel.cpp:3 [backend fallback]\nPython: registered at /opt/conda/conda-bld/pytorch_1639180588308/work/aten/src/ATen/core/PythonFallbackKernel.cpp:47 [backend fallback]\nNamed: registered at /opt/conda/conda-bld/pytorch_1639180588308/work/aten/src/ATen/core/NamedRegistrations.cpp:7 [backend fallback]\nConjugate: registered at /opt/conda/conda-bld/pytorch_1639180588308/work/aten/src/ATen/ConjugateFallback.cpp:18 [backend fallback]\nNegative: registered at /opt/conda/conda-bld/pytorch_1639180588308/work/aten/src/ATen/native/NegateFallback.cpp:18 [backend fallback]\nADInplaceOrView: fallthrough registered at /opt/conda/conda-bld/pytorch_1639180588308/work/aten/src/ATen/core/VariableFallbackKernel.cpp:64 [backend fallback]\nAutogradOther: registered at /opt/conda/conda-bld/pytorch_1639180588308/work/torch/csrc/autograd/generated/VariableType_1.cpp:9548 [autograd kernel]\nAutogradCPU: registered at /opt/conda/conda-bld/pytorch_1639180588308/work/torch/csrc/autograd/generated/VariableType_1.cpp:9548 [autograd kernel]\nAutogradCUDA: registered at /opt/conda/conda-bld/pytorch_1639180588308/work/torch/csrc/autograd/generated/VariableType_1.cpp:9548 [autograd kernel]\nAutogradXLA: registered at /opt/conda/conda-bld/pytorch_1639180588308/work/torch/csrc/autograd/generated/VariableType_1.cpp:9548 [autograd kernel]\nAutogradLazy: registered at /opt/conda/conda-bld/pytorch_1639180588308/work/torch/csrc/autograd/generated/VariableType_1.cpp:9548 [autograd kernel]\nAutogradXPU: registered at /opt/conda/conda-bld/pytorch_1639180588308/work/torch/csrc/autograd/generated/VariableType_1.cpp:9548 [autograd kernel]\nAutogradMLC: registered at /opt/conda/conda-bld/pytorch_1639180588308/work/torch/csrc/autograd/generated/VariableType_1.cpp:9548 [autograd kernel]\nAutogradHPU: registered at /opt/conda/conda-bld/pytorch_1639180588308/work/torch/csrc/autograd/generated/VariableType_1.cpp:9548 [autograd kernel]\nAutogradNestedTensor: registered at /opt/conda/conda-bld/pytorch_1639180588308/work/torch/csrc/autograd/generated/VariableType_1.cpp:9548 [autograd kernel]\nAutogradPrivateUse1: registered at /opt/conda/conda-bld/pytorch_1639180588308/work/torch/csrc/autograd/generated/VariableType_1.cpp:9548 [autograd kernel]\nAutogradPrivateUse2: registered at /opt/conda/conda-bld/pytorch_1639180588308/work/torch/csrc/autograd/generated/VariableType_1.cpp:9548 [autograd kernel]\nAutogradPrivateUse3: registered at /opt/conda/conda-bld/pytorch_1639180588308/work/torch/csrc/autograd/generated/VariableType_1.cpp:9548 [autograd kernel]\nTracer: registered at /opt/conda/conda-bld/pytorch_1639180588308/work/torch/csrc/autograd/generated/TraceType_1.cpp:10664 [kernel]\nUNKNOWN_TENSOR_TYPE_ID: fallthrough registered at /opt/conda/conda-bld/pytorch_1639180588308/work/aten/src/ATen/autocast_mode.cpp:466 [backend fallback]\nAutocast: fallthrough registered at /opt/conda/conda-bld/pytorch_1639180588308/work/aten/src/ATen/autocast_mode.cpp:305 [backend fallback]\nBatched: registered at /opt/conda/conda-bld/pytorch_1639180588308/work/aten/src/ATen/BatchingRegistrations.cpp:1016 [backend fallback]\nVmapMode: fallthrough registered at /opt/conda/conda-bld/pytorch_1639180588308/work/aten/src/ATen/VmapModeRegistrations.cpp:33 [backend fallback]\n",
     "output_type": "error",
     "traceback": [
      "\u001b[0;31m---------------------------------------------------------------------------\u001b[0m",
      "\u001b[0;31mNotImplementedError\u001b[0m                       Traceback (most recent call last)",
      "Cell \u001b[0;32mIn[41], line 41\u001b[0m\n\u001b[1;32m     38\u001b[0m adj_matrix \u001b[39m=\u001b[39m graph\u001b[39m.\u001b[39madjacency_matrix()\n\u001b[1;32m     40\u001b[0m \u001b[39m# 获得这些节点的邻居\u001b[39;00m\n\u001b[0;32m---> 41\u001b[0m neighbors \u001b[39m=\u001b[39m adj_matrix[nodes]\u001b[39m.\u001b[39mto_dense()\n\u001b[1;32m     43\u001b[0m \u001b[39m# 将邻居节点合并为一个无重复的点集\u001b[39;00m\n\u001b[1;32m     44\u001b[0m unique_neighbors, _ \u001b[39m=\u001b[39m torch\u001b[39m.\u001b[39munique(neighbors, dim\u001b[39m=\u001b[39m\u001b[39m1\u001b[39m, return_inverse\u001b[39m=\u001b[39m\u001b[39mTrue\u001b[39;00m)\n",
      "\u001b[0;31mNotImplementedError\u001b[0m: Could not run 'aten::index.Tensor' with arguments from the 'SparseCPU' backend. This could be because the operator doesn't exist for this backend, or was omitted during the selective/custom build process (if using custom build). If you are a Facebook employee using PyTorch on mobile, please visit https://fburl.com/ptmfixes for possible resolutions. 'aten::index.Tensor' is only available for these backends: [CPU, CUDA, QuantizedCPU, BackendSelect, Python, Named, Conjugate, Negative, ADInplaceOrView, AutogradOther, AutogradCPU, AutogradCUDA, AutogradXLA, AutogradLazy, AutogradXPU, AutogradMLC, AutogradHPU, AutogradNestedTensor, AutogradPrivateUse1, AutogradPrivateUse2, AutogradPrivateUse3, Tracer, UNKNOWN_TENSOR_TYPE_ID, Autocast, Batched, VmapMode].\n\nCPU: registered at /opt/conda/conda-bld/pytorch_1639180588308/work/build/aten/src/ATen/RegisterCPU.cpp:18433 [kernel]\nCUDA: registered at /opt/conda/conda-bld/pytorch_1639180588308/work/build/aten/src/ATen/RegisterCUDA.cpp:26496 [kernel]\nQuantizedCPU: registered at /opt/conda/conda-bld/pytorch_1639180588308/work/build/aten/src/ATen/RegisterQuantizedCPU.cpp:1068 [kernel]\nBackendSelect: fallthrough registered at /opt/conda/conda-bld/pytorch_1639180588308/work/aten/src/ATen/core/BackendSelectFallbackKernel.cpp:3 [backend fallback]\nPython: registered at /opt/conda/conda-bld/pytorch_1639180588308/work/aten/src/ATen/core/PythonFallbackKernel.cpp:47 [backend fallback]\nNamed: registered at /opt/conda/conda-bld/pytorch_1639180588308/work/aten/src/ATen/core/NamedRegistrations.cpp:7 [backend fallback]\nConjugate: registered at /opt/conda/conda-bld/pytorch_1639180588308/work/aten/src/ATen/ConjugateFallback.cpp:18 [backend fallback]\nNegative: registered at /opt/conda/conda-bld/pytorch_1639180588308/work/aten/src/ATen/native/NegateFallback.cpp:18 [backend fallback]\nADInplaceOrView: fallthrough registered at /opt/conda/conda-bld/pytorch_1639180588308/work/aten/src/ATen/core/VariableFallbackKernel.cpp:64 [backend fallback]\nAutogradOther: registered at /opt/conda/conda-bld/pytorch_1639180588308/work/torch/csrc/autograd/generated/VariableType_1.cpp:9548 [autograd kernel]\nAutogradCPU: registered at /opt/conda/conda-bld/pytorch_1639180588308/work/torch/csrc/autograd/generated/VariableType_1.cpp:9548 [autograd kernel]\nAutogradCUDA: registered at /opt/conda/conda-bld/pytorch_1639180588308/work/torch/csrc/autograd/generated/VariableType_1.cpp:9548 [autograd kernel]\nAutogradXLA: registered at /opt/conda/conda-bld/pytorch_1639180588308/work/torch/csrc/autograd/generated/VariableType_1.cpp:9548 [autograd kernel]\nAutogradLazy: registered at /opt/conda/conda-bld/pytorch_1639180588308/work/torch/csrc/autograd/generated/VariableType_1.cpp:9548 [autograd kernel]\nAutogradXPU: registered at /opt/conda/conda-bld/pytorch_1639180588308/work/torch/csrc/autograd/generated/VariableType_1.cpp:9548 [autograd kernel]\nAutogradMLC: registered at /opt/conda/conda-bld/pytorch_1639180588308/work/torch/csrc/autograd/generated/VariableType_1.cpp:9548 [autograd kernel]\nAutogradHPU: registered at /opt/conda/conda-bld/pytorch_1639180588308/work/torch/csrc/autograd/generated/VariableType_1.cpp:9548 [autograd kernel]\nAutogradNestedTensor: registered at /opt/conda/conda-bld/pytorch_1639180588308/work/torch/csrc/autograd/generated/VariableType_1.cpp:9548 [autograd kernel]\nAutogradPrivateUse1: registered at /opt/conda/conda-bld/pytorch_1639180588308/work/torch/csrc/autograd/generated/VariableType_1.cpp:9548 [autograd kernel]\nAutogradPrivateUse2: registered at /opt/conda/conda-bld/pytorch_1639180588308/work/torch/csrc/autograd/generated/VariableType_1.cpp:9548 [autograd kernel]\nAutogradPrivateUse3: registered at /opt/conda/conda-bld/pytorch_1639180588308/work/torch/csrc/autograd/generated/VariableType_1.cpp:9548 [autograd kernel]\nTracer: registered at /opt/conda/conda-bld/pytorch_1639180588308/work/torch/csrc/autograd/generated/TraceType_1.cpp:10664 [kernel]\nUNKNOWN_TENSOR_TYPE_ID: fallthrough registered at /opt/conda/conda-bld/pytorch_1639180588308/work/aten/src/ATen/autocast_mode.cpp:466 [backend fallback]\nAutocast: fallthrough registered at /opt/conda/conda-bld/pytorch_1639180588308/work/aten/src/ATen/autocast_mode.cpp:305 [backend fallback]\nBatched: registered at /opt/conda/conda-bld/pytorch_1639180588308/work/aten/src/ATen/BatchingRegistrations.cpp:1016 [backend fallback]\nVmapMode: fallthrough registered at /opt/conda/conda-bld/pytorch_1639180588308/work/aten/src/ATen/VmapModeRegistrations.cpp:33 [backend fallback]\n"
     ]
    }
   ],
   "source": [
    "# import dgl\n",
    "\n",
    "# # 创建一个包含浮点数节点索引的张量\n",
    "# node_indices = torch.tensor([0.0, 1.0, 2.0])\n",
    "\n",
    "# # 将节点索引张量转换为整数类型\n",
    "# node_indices = node_indices.long()\n",
    "\n",
    "# # 创建一个图对象\n",
    "# num_nodes = 5\n",
    "# edges = [(0,1),(1,2),(1,3),(2,4),(3,0),(3,2),  (1,0),(2,1),(3,1),(4,2),(0,3),(2,3)] \n",
    "# graph = dgl.graph(edges, num_nodes=num_nodes)\n",
    "\n",
    "\n",
    "# # 将图对象转换为邻接矩阵\n",
    "# adj_matrix =graph.adjacency_matrix()\n",
    "\n",
    "# # 选择节点3\n",
    "# node = torch.tensor([3])\n",
    "\n",
    "# # 获得节点3的邻居\n",
    "# neighbors = adj_matrix[node]\n",
    "\n",
    "# print(neighbors)\n",
    "\n",
    "import dgl\n",
    "import torch\n",
    "\n",
    "# 创建一个图对象\n",
    "num_nodes = 5\n",
    "edges = [(0,1),(1,2),(1,3),(2,4),(3,0),(3,2), (1,0),(2,1),(3,1),(4,2),(0,3),(2,3)] \n",
    "graph = dgl.graph(edges, num_nodes=num_nodes)\n",
    "\n",
    "# 选择多个节点\n",
    "nodes = torch.tensor([1, 2, 3])\n",
    "\n",
    "# 将图对象转换为邻接矩阵\n",
    "adj_matrix = graph.adjacency_matrix()\n",
    "\n",
    "# 获得这些节点的邻居\n",
    "neighbors = adj_matrix[nodes].to_dense()\n",
    "\n",
    "# 将邻居节点合并为一个无重复的点集\n",
    "unique_neighbors, _ = torch.unique(neighbors, dim=1, return_inverse=True)\n",
    "\n",
    "print(unique_neighbors.squeeze())\n"
   ]
  },
  {
   "cell_type": "code",
   "execution_count": 85,
   "metadata": {},
   "outputs": [
    {
     "name": "stdout",
     "output_type": "stream",
     "text": [
      "tensor([0])\n",
      "tensor(indices=tensor([[0, 0],\n",
      "                       [1, 3]]),\n",
      "       values=tensor([1., 1.]),\n",
      "       size=(1, 5), nnz=2, layout=torch.sparse_coo)\n"
     ]
    },
    {
     "data": {
      "text/plain": [
       "tensor([0, 1, 2, 3, 4])"
      ]
     },
     "execution_count": 85,
     "metadata": {},
     "output_type": "execute_result"
    }
   ],
   "source": [
    "import dgl\n",
    "import torch\n",
    "\n",
    "# 创建一个图对象\n",
    "num_nodes = 5\n",
    "edges = [(0,1),(1,2),(1,3),(2,4),(3,0),(3,2), (1,0),(2,1),(3,1),(4,2),(0,3),(2,3)] \n",
    "graph = dgl.graph(edges, num_nodes=num_nodes)\n",
    "graph.to(torch.device('cuda'))\n",
    "\n",
    "# 选择多个节点\n",
    "nodes = torch.tensor([0])\n",
    "\n",
    "def get_neighbors(graph, nodes):\n",
    "\n",
    "\n",
    "    assert type(nodes) == torch.Tensor, 'nodes must be a tensor'\n",
    "    # 将图对象转换为邻接矩阵\n",
    "    adj_matrix = graph.adjacency_matrix()\n",
    "\n",
    "    print(nodes)\n",
    "    # 获得这些节点的邻居\n",
    "    neighbors = adj_matrix.index_select(0, nodes)\n",
    "\n",
    "\n",
    "    print(neighbors)\n",
    "\n",
    "    # 压缩稀疏矩阵\n",
    "    neighbors = neighbors.coalesce()\n",
    "\n",
    "    neighbors.indices()[1]\n",
    "\n",
    "    # unique_neighbors = torch.unique(neighbors.indices()[1])\n",
    "\n",
    "    return unique_neighbors\n",
    "\n",
    "# 多重递归获得邻居节点\n",
    "def get_all_neighbors(graph, nodes, depth):\n",
    "    if depth == 0:\n",
    "        return nodes\n",
    "    else:\n",
    "        neighbors = get_neighbors(graph, nodes)\n",
    "        return get_all_neighbors(graph, neighbors, depth-1)\n",
    "\n",
    "# 获得节点0的所有邻居\n",
    "all_neighbors = get_all_neighbors(graph, nodes, 1)\n",
    "all_neighbors\n",
    "\n",
    "# # 将邻居节点合并为一个无重复的点集\n",
    "# unique_neighbors, _ = torch.unique(neighbors, dim=1, return_inverse=True)\n",
    "\n",
    "# print(unique_neighbors.squeeze())"
   ]
  },
  {
   "cell_type": "code",
   "execution_count": 111,
   "metadata": {},
   "outputs": [],
   "source": [
    "\n",
    "def get_neighbors(graph:dgl.DGLGraph, nodes:torch.Tensor):\n",
    "    \"\"\"获得一个中心点列表中所有中心点的邻居，不包括中心点本身，且去重\n",
    "\n",
    "    Args:\n",
    "        graph (dgl.DGLGraph): 图对象\n",
    "        nodes (torch.Tensor): 中心节点张量，1*nodes_num\n",
    "\n",
    "    Returns:\n",
    "        torch.Tensor: 所有中心点的邻居节点组成的无重复节点张量, 1*neighbors_num\n",
    "    \"\"\"\n",
    "    assert nodes.is_cuda == True\n",
    "    # print(type(graph))\n",
    "    adj_matrix = graph.adjacency_matrix()\n",
    "    # 判断adj_matrix的是否在GPU上\n",
    "    # print(adj_matrix.is_cuda)\n",
    "    adj_matrix = adj_matrix.to(nodes.device)\n",
    "    # adj_matrix = adj_matrix.to(nodes.device)\n",
    "    # print(adj_matrix.device)\n",
    "    assert adj_matrix.is_cuda == True\n",
    "\n",
    "    # 获得这些节点的邻居\n",
    "    neighbors = adj_matrix.index_select(0, nodes)\n",
    "    # 压缩稀疏矩阵\n",
    "    neighbors = neighbors.coalesce()\n",
    "    # neighbors.indices()返回一个2*neighbors_num的矩阵，2 * neighbors_num，第二行是所有邻居节点标号的横向拼接\n",
    "    unique_neighbors = torch.unique(neighbors.indices()[1])\n",
    "\n",
    "    return unique_neighbors\n",
    "\n",
    "# 多重递归获得邻居节点\n",
    "def get_all_neighbors(graph:dgl.DGLGraph, nodes:torch.Tensor, depth:int):\n",
    "    \"\"\"多重递归获得邻居节点集合张量（逻辑上是集合，物理数据结构为torch.Tensor），且去重\n",
    "\n",
    "    Args:\n",
    "        graph (dgl.DGLGraph): 输入图\n",
    "        nodes (torch.Tensor): 中心节点集合张量，1*nodes_num\n",
    "        depth (int): 递归深度，为0时相当于点遮盖，直接返回nodes\n",
    "\n",
    "    Returns:\n",
    "        torch.Tensor: 所有中心点的邻居节点组成的无重复节点张量, 1*neighbors_num\n",
    "    \"\"\"\n",
    "    if depth == 0:\n",
    "        return nodes\n",
    "    else:\n",
    "        neighbors = get_neighbors(graph, nodes)\n",
    "        neighbors = torch.cat([nodes, neighbors])\n",
    "        neighbors = torch.unique(neighbors)\n",
    "        return get_all_neighbors(graph, neighbors, depth-1)\n"
   ]
  },
  {
   "cell_type": "code",
   "execution_count": 9,
   "metadata": {},
   "outputs": [
    {
     "name": "stdout",
     "output_type": "stream",
     "text": [
      "(base) \u001b]0;root@84dc942e2771: ~/models/SMCL\u0007\u001b[01;32mroot@84dc942e2771\u001b[00m:\u001b[01;34m~/models/SMCL\u001b[00m# ^C\n",
      "\n",
      "(base) \u001b]0;root@84dc942e2771: ~/models/SMCL\u0007\u001b[01;32mroot@84dc942e2771\u001b[00m:\u001b[01;34m~/models/SMCL\u001b[00m# "
     ]
    }
   ],
   "source": [
    "!bash ;conda activate graph"
   ]
  },
  {
   "cell_type": "code",
   "execution_count": 3,
   "metadata": {},
   "outputs": [],
   "source": [
    "import dgl\n",
    "\n",
    "def get_neighbors(graph:dgl.DGLGraph, nodes:torch.Tensor):\n",
    "    \"\"\"获得一个中心点列表中所有中心点的邻居，不包括中心点本身，且去重\n",
    "    Args:\n",
    "        graph (dgl.DGLGraph): 图对象\n",
    "        nodes (torch.Tensor): 中心节点张量，1*nodes_num\n",
    "    Returns:\n",
    "        torch.Tensor: 所有中心点的邻居节点组成的无重复节点张量, 1*neighbors_num\n",
    "    \"\"\"\n",
    "    assert nodes.is_cuda == True\n",
    "    # print(type(graph))\n",
    "    adj_matrix = graph.adjacency_matrix()\n",
    "    # 判断adj_matrix的是否在GPU上\n",
    "    # print(adj_matrix.is_cuda)\n",
    "    adj_matrix = adj_matrix.to(nodes.device)\n",
    "    # adj_matrix = adj_matrix.to(nodes.device)\n",
    "    # print(adj_matrix.device)\n",
    "    assert adj_matrix.is_cuda == True\n",
    "\n",
    "    # 获得这些节点的邻居\n",
    "    neighbors = adj_matrix.index_select(0, nodes)\n",
    "    # 压缩稀疏矩阵\n",
    "    neighbors = neighbors.coalesce()\n",
    "    # neighbors.indices()返回一个2*neighbors_num的矩阵，2 * neighbors_num，第二行是所有邻居节点标号的横向拼接\n",
    "    unique_neighbors = torch.unique(neighbors.indices()[1])\n",
    "\n",
    "    return unique_neighbors\n",
    "\n",
    "# 多重递归获得邻居节点\n",
    "def get_all_neighbors(graph:dgl.DGLGraph, nodes:torch.Tensor, depth:int):\n",
    "    \"\"\"多重递归获得邻居节点集合张量（逻辑上是集合，物理数据结构为torch.Tensor），且去重\n",
    "    Args:\n",
    "        graph (dgl.DGLGraph): 输入图\n",
    "        nodes (torch.Tensor): 中心节点集合张量，1*nodes_num\n",
    "        depth (int): 递归深度，为0时相当于点遮盖，直接返回nodes\n",
    "    Returns:\n",
    "        torch.Tensor: 所有中心点的邻居节点组成的无重复节点张量, 1*neighbors_num\n",
    "    \"\"\"\n",
    "    if depth == 0:\n",
    "        return nodes\n",
    "    else:\n",
    "        neighbors = get_neighbors(graph, nodes)\n",
    "        return get_all_neighbors(graph, neighbors, depth-1)\n",
    "\n"
   ]
  },
  {
   "cell_type": "code",
   "execution_count": 13,
   "metadata": {},
   "outputs": [
    {
     "name": "stdout",
     "output_type": "stream",
     "text": [
      "tensor([1, 5, 9], device='cuda:0')\n",
      "tensor([2, 3, 4, 7, 8], device='cuda:0')\n"
     ]
    }
   ],
   "source": [
    "import torch\n",
    "import networkx as nx\n",
    "import matplotlib.pyplot as plt\n",
    "import dgl\n",
    "# import numpy as np\n",
    "\n",
    "g = dgl.DGLGraph()\n",
    "g.add_nodes(10)\n",
    "g.add_edges([0, 1, 1, 2, 2, 3, 3, 4, 5, 6, 7, 8, 9, 0, 5, 6, 7, 8, 9, 4],\n",
    "            [1, 2, 3, 0, 4, 5, 6, 7, 8, 9, 0, 1, 2, 6, 7, 8, 9, 3, 4, 5])\n",
    "g = g.to(torch.device('cuda'))\n",
    "\n",
    "nodes = torch.tensor([1,5,9],device=\"cuda\")\n",
    "\n",
    "print(nodes)\n",
    "print(get_all_neighbors(g,nodes,1))\n"
   ]
  },
  {
   "cell_type": "code",
   "execution_count": 16,
   "metadata": {},
   "outputs": [
    {
     "name": "stdout",
     "output_type": "stream",
     "text": [
      "acc_mean:  0.5002698412698413\n",
      "acc_max 0.522\n",
      "acc_minus:  0.025603174603174628\n",
      "acc_plus:  0.02173015873015871\n",
      "[0.48933333333333334, 0.4933333333333333, 0.504, 0.5113333333333333, 0.5066666666666666, 0.5, 0.5113333333333333, 0.4913333333333334, 0.5046666666666667, 0.4913333333333333, 0.5133333333333334, 0.484, 0.4953333333333334, 0.5166666666666667, 0.5133333333333333, 0.5033333333333334, 0.5046666666666667, 0.5066666666666668, 0.4986666666666667, 0.4746666666666667, 0.4946666666666667, 0.5013333333333334, 0.5113333333333332, 0.5026666666666666, 0.4953333333333333, 0.49266666666666675, 0.5093333333333334, 0.5079999999999999, 0.4946666666666667, 0.502, 0.4846666666666667, 0.5033333333333333, 0.4873333333333334, 0.49066666666666664, 0.4926666666666667, 0.4993333333333333, 0.502, 0.4966666666666667, 0.522, 0.49800000000000005, 0.4993333333333333, 0.5093333333333333]\n"
     ]
    }
   ],
   "source": [
    "import numpy as np\n",
    "# 读取文件中的字符串内容\n",
    "data = open(\"./nohup_logs/20230515002301/IMDB-BINARY.log\").read()\n",
    "# 按照换行符和逗号分割字符串\n",
    "data_ls = data.split(\"\\n\")\n",
    "acc_ls = []\n",
    "for i in data_ls:\n",
    "    for j in i.split(\",\"):\n",
    "        if (j.startswith(\"Acc\")):\n",
    "            # print(j)\n",
    "            j.replace(\"Acc: \",\"\")\n",
    "            acc = float(j.split(\": \")[1])\n",
    "            acc_ls.append(acc)\n",
    "# 计算acc的平均值和+/-误差\n",
    "acc_mean = np.mean(acc_ls)\n",
    "print(\"acc_mean: \",acc_mean)\n",
    "print(\"acc_max\", np.max(acc_ls))\n",
    "# 计算负误差\n",
    "acc_minus = acc_mean - np.min(acc_ls)\n",
    "acc_plus = np.max(acc_ls) - acc_mean\n",
    "print(\"acc_minus: \",acc_minus)\n",
    "print(\"acc_plus: \",acc_plus)\n",
    "print(acc_ls)"
   ]
  },
  {
   "cell_type": "code",
   "execution_count": 24,
   "metadata": {
    "tags": []
   },
   "outputs": [
    {
     "name": "stdout",
     "output_type": "stream",
     "text": [
      "Graph(num_nodes=218, num_edges=960,\n",
      "      ndata_schemes={'_ID': Scheme(shape=(), dtype=torch.int64), '_TYPE': Scheme(shape=(), dtype=torch.int64)}\n",
      "      edata_schemes={'_ID': Scheme(shape=(), dtype=torch.int64), '_TYPE': Scheme(shape=(), dtype=torch.int64)})\n"
     ]
    }
   ],
   "source": [
    "import dgl\n",
    "from dgl.data import TUDataset\n",
    "\n",
    "# 加载IMDB-BINARY数据集\n",
    "dataset = TUDataset(\"REDDIT-BINARY\")\n",
    "\n",
    "# 获取数据集中的第一个图\n",
    "graph, label = dataset[0]\n",
    "\n",
    "# 将图数据转换为DGLGraph对象\n",
    "g = dgl.to_homogeneous(graph)\n",
    "print(g)\n"
   ]
  },
  {
   "cell_type": "code",
   "execution_count": 10,
   "metadata": {},
   "outputs": [
    {
     "ename": "TypeError",
     "evalue": "'_AxesStack' object is not callable",
     "output_type": "error",
     "traceback": [
      "\u001b[0;31m---------------------------------------------------------------------------\u001b[0m",
      "\u001b[0;31mTypeError\u001b[0m                                 Traceback (most recent call last)",
      "Cell \u001b[0;32mIn[10], line 18\u001b[0m\n\u001b[1;32m     16\u001b[0m \u001b[39m# 可视化图\u001b[39;00m\n\u001b[1;32m     17\u001b[0m pos \u001b[39m=\u001b[39m nx\u001b[39m.\u001b[39mspring_layout(nx_g)\n\u001b[0;32m---> 18\u001b[0m nx\u001b[39m.\u001b[39;49mdraw(nx_g, pos\u001b[39m=\u001b[39;49mpos, node_size\u001b[39m=\u001b[39;49m\u001b[39m20\u001b[39;49m, node_color\u001b[39m=\u001b[39;49m\u001b[39m'\u001b[39;49m\u001b[39mb\u001b[39;49m\u001b[39m'\u001b[39;49m, with_labels\u001b[39m=\u001b[39;49m\u001b[39mFalse\u001b[39;49;00m)\n\u001b[1;32m     19\u001b[0m plt\u001b[39m.\u001b[39mshow()\n",
      "File \u001b[0;32m/opt/conda/envs/graph/lib/python3.8/site-packages/networkx/drawing/nx_pylab.py:113\u001b[0m, in \u001b[0;36mdraw\u001b[0;34m(G, pos, ax, **kwds)\u001b[0m\n\u001b[1;32m    111\u001b[0m cf\u001b[39m.\u001b[39mset_facecolor(\u001b[39m\"\u001b[39m\u001b[39mw\u001b[39m\u001b[39m\"\u001b[39m)\n\u001b[1;32m    112\u001b[0m \u001b[39mif\u001b[39;00m ax \u001b[39mis\u001b[39;00m \u001b[39mNone\u001b[39;00m:\n\u001b[0;32m--> 113\u001b[0m     \u001b[39mif\u001b[39;00m cf\u001b[39m.\u001b[39;49m_axstack() \u001b[39mis\u001b[39;00m \u001b[39mNone\u001b[39;00m:\n\u001b[1;32m    114\u001b[0m         ax \u001b[39m=\u001b[39m cf\u001b[39m.\u001b[39madd_axes((\u001b[39m0\u001b[39m, \u001b[39m0\u001b[39m, \u001b[39m1\u001b[39m, \u001b[39m1\u001b[39m))\n\u001b[1;32m    115\u001b[0m     \u001b[39melse\u001b[39;00m:\n",
      "\u001b[0;31mTypeError\u001b[0m: '_AxesStack' object is not callable"
     ]
    },
    {
     "data": {
      "text/plain": [
       "<Figure size 640x480 with 0 Axes>"
      ]
     },
     "metadata": {},
     "output_type": "display_data"
    }
   ],
   "source": [
    "import networkx as nx\n",
    "import matplotlib.pyplot as plt\n",
    "from dgl.data import TUDataset\n",
    "\n",
    "# 加载IMDB-BINARY数据集\n",
    "dataset = TUDataset(\"IMDB-BINARY\")\n",
    "\n",
    "# 获取数据集中的第一个图\n",
    "graph, label = dataset[0]\n",
    "\n",
    "# 创建networkx图对象\n",
    "nx_g = nx.Graph()\n",
    "nx_g.add_nodes_from(range(graph.num_nodes()))\n",
    "nx_g.add_edges_from((u, v) for u, v in zip(*graph.edges()))\n",
    "\n",
    "# 可视化图\n",
    "pos = nx.spring_layout(nx_g)\n",
    "nx.draw(nx_g, pos=pos, node_size=20, node_color='b', with_labels=False)\n",
    "plt.show()"
   ]
  },
  {
   "cell_type": "code",
   "execution_count": null,
   "metadata": {},
   "outputs": [],
   "source": []
  },
  {
   "cell_type": "code",
   "execution_count": 1,
   "metadata": {},
   "outputs": [
    {
     "name": "stderr",
     "output_type": "stream",
     "text": [
      "/opt/conda/envs/graph/lib/python3.8/site-packages/dgl/heterograph.py:72: DGLWarning: Recommend creating graphs by `dgl.graph(data)` instead of `dgl.DGLGraph(data)`.\n",
      "  dgl_warning('Recommend creating graphs by `dgl.graph(data)`'\n"
     ]
    },
    {
     "data": {
      "image/png": "[encoded data removed]",
      "text/plain": [
       "<Figure size 640x480 with 1 Axes>"
      ]
     },
     "metadata": {},
     "output_type": "display_data"
    },
    {
     "ename": "DGLError",
     "evalue": "[18:20:31] /opt/dgl/src/graph/heterograph_capi.cc:407: Check failed: relabel_nodes: Node subgraph only supports relabel_nodes=True.\nStack trace:\n  [bt] (0) /opt/conda/envs/graph/lib/python3.8/site-packages/dgl/libdgl.so(dmlc::LogMessageFatal::~LogMessageFatal()+0x4f) [0x7f46e73107bf]\n  [bt] (1) /opt/conda/envs/graph/lib/python3.8/site-packages/dgl/libdgl.so(+0x737dd0) [0x7f46e76a0dd0]\n  [bt] (2) /opt/conda/envs/graph/lib/python3.8/site-packages/dgl/libdgl.so(DGLFuncCall+0x48) [0x7f46e7624308]\n  [bt] (3) /opt/conda/envs/graph/lib/python3.8/site-packages/dgl/_ffi/_cy3/core.cpython-38-x86_64-linux-gnu.so(+0x171fc) [0x7f46e6f601fc]\n  [bt] (4) /opt/conda/envs/graph/lib/python3.8/site-packages/dgl/_ffi/_cy3/core.cpython-38-x86_64-linux-gnu.so(+0x1772b) [0x7f46e6f6072b]\n  [bt] (5) /opt/conda/envs/graph/bin/python(_PyObject_MakeTpCall+0x3bb) [0x4e0c8b]\n  [bt] (6) /opt/conda/envs/graph/bin/python(_PyEval_EvalFrameDefault+0x4907) [0x4dc8f7]\n  [bt] (7) /opt/conda/envs/graph/bin/python() [0x4f50d6]\n  [bt] (8) /opt/conda/envs/graph/bin/python(_PyEval_EvalFrameDefault+0x49a9) [0x4dc999]\n\n",
     "output_type": "error",
     "traceback": [
      "\u001b[0;31m---------------------------------------------------------------------------\u001b[0m",
      "\u001b[0;31mDGLError\u001b[0m                                  Traceback (most recent call last)",
      "Cell \u001b[0;32mIn[1], line 28\u001b[0m\n\u001b[1;32m     25\u001b[0m nx\u001b[39m.\u001b[39mdraw(nx_g, pos\u001b[39m=\u001b[39mpos, with_labels\u001b[39m=\u001b[39m\u001b[39mTrue\u001b[39;00m, ax\u001b[39m=\u001b[39max)\n\u001b[1;32m     26\u001b[0m plt\u001b[39m.\u001b[39mshow()\n\u001b[0;32m---> 28\u001b[0m subg \u001b[39m=\u001b[39m g\u001b[39m.\u001b[39;49mkhop_out_subgraph([\u001b[39m3\u001b[39;49m,\u001b[39m5\u001b[39;49m], \u001b[39m1\u001b[39;49m, relabel_nodes\u001b[39m=\u001b[39;49m\u001b[39mFalse\u001b[39;49;00m, store_ids\u001b[39m=\u001b[39;49m\u001b[39mTrue\u001b[39;49;00m, output_device\u001b[39m=\u001b[39;49m\u001b[39m'\u001b[39;49m\u001b[39mcpu\u001b[39;49m\u001b[39m'\u001b[39;49m)\n\u001b[1;32m     29\u001b[0m \u001b[39m# g = g.to(torch.device('cuda'))\u001b[39;00m\n\u001b[1;32m     30\u001b[0m \n\u001b[1;32m     31\u001b[0m \u001b[39m# nodes = torch.tensor([1,5,9],device=\"cuda\")\u001b[39;00m\n\u001b[1;32m     33\u001b[0m \u001b[39mprint\u001b[39m(subg)\n",
      "File \u001b[0;32m/opt/conda/envs/graph/lib/python3.8/site-packages/dgl/utils/internal.py:1052\u001b[0m, in \u001b[0;36malias_func.<locals>._fn\u001b[0;34m(*args, **kwargs)\u001b[0m\n\u001b[1;32m   1050\u001b[0m \u001b[39m@wraps\u001b[39m(func)\n\u001b[1;32m   1051\u001b[0m \u001b[39mdef\u001b[39;00m \u001b[39m_fn\u001b[39m(\u001b[39m*\u001b[39margs, \u001b[39m*\u001b[39m\u001b[39m*\u001b[39mkwargs):\n\u001b[0;32m-> 1052\u001b[0m     \u001b[39mreturn\u001b[39;00m func(\u001b[39m*\u001b[39;49margs, \u001b[39m*\u001b[39;49m\u001b[39m*\u001b[39;49mkwargs)\n",
      "File \u001b[0;32m/opt/conda/envs/graph/lib/python3.8/site-packages/dgl/subgraph.py:964\u001b[0m, in \u001b[0;36mkhop_out_subgraph\u001b[0;34m(graph, nodes, k, relabel_nodes, store_ids, output_device)\u001b[0m\n\u001b[1;32m    952\u001b[0m \u001b[39mfor\u001b[39;00m nty \u001b[39min\u001b[39;00m graph\u001b[39m.\u001b[39mntypes:\n\u001b[1;32m    953\u001b[0m     k_hop_nodes[nty], inverse_indices[nty] \u001b[39m=\u001b[39m F\u001b[39m.\u001b[39munique(\n\u001b[1;32m    954\u001b[0m         F\u001b[39m.\u001b[39mcat(\n\u001b[1;32m    955\u001b[0m             [\n\u001b[0;32m   (...)\u001b[0m\n\u001b[1;32m    961\u001b[0m         return_inverse\u001b[39m=\u001b[39m\u001b[39mTrue\u001b[39;00m,\n\u001b[1;32m    962\u001b[0m     )\n\u001b[0;32m--> 964\u001b[0m sub_g \u001b[39m=\u001b[39m node_subgraph(\n\u001b[1;32m    965\u001b[0m     graph, k_hop_nodes, relabel_nodes\u001b[39m=\u001b[39;49mrelabel_nodes, store_ids\u001b[39m=\u001b[39;49mstore_ids\n\u001b[1;32m    966\u001b[0m )\n\u001b[1;32m    967\u001b[0m \u001b[39mif\u001b[39;00m output_device \u001b[39mis\u001b[39;00m \u001b[39mnot\u001b[39;00m \u001b[39mNone\u001b[39;00m:\n\u001b[1;32m    968\u001b[0m     sub_g \u001b[39m=\u001b[39m sub_g\u001b[39m.\u001b[39mto(output_device)\n",
      "File \u001b[0;32m/opt/conda/envs/graph/lib/python3.8/site-packages/dgl/subgraph.py:165\u001b[0m, in \u001b[0;36mnode_subgraph\u001b[0;34m(graph, nodes, relabel_nodes, store_ids, output_device)\u001b[0m\n\u001b[1;32m    159\u001b[0m device \u001b[39m=\u001b[39m context_of(nodes)\n\u001b[1;32m    161\u001b[0m induced_nodes \u001b[39m=\u001b[39m [\n\u001b[1;32m    162\u001b[0m     nodes\u001b[39m.\u001b[39mget(ntype, F\u001b[39m.\u001b[39mcopy_to(F\u001b[39m.\u001b[39mtensor([], graph\u001b[39m.\u001b[39midtype), device))\n\u001b[1;32m    163\u001b[0m     \u001b[39mfor\u001b[39;00m ntype \u001b[39min\u001b[39;00m graph\u001b[39m.\u001b[39mntypes\n\u001b[1;32m    164\u001b[0m ]\n\u001b[0;32m--> 165\u001b[0m sgi \u001b[39m=\u001b[39m graph\u001b[39m.\u001b[39;49m_graph\u001b[39m.\u001b[39;49mnode_subgraph(induced_nodes, relabel_nodes)\n\u001b[1;32m    166\u001b[0m induced_edges \u001b[39m=\u001b[39m sgi\u001b[39m.\u001b[39minduced_edges\n\u001b[1;32m    167\u001b[0m \u001b[39m# (BarclayII) should not write induced_nodes = sgi.induced_nodes due to the same\u001b[39;00m\n\u001b[1;32m    168\u001b[0m \u001b[39m# bug in #1453.\u001b[39;00m\n",
      "File \u001b[0;32m/opt/conda/envs/graph/lib/python3.8/site-packages/dgl/heterograph_index.py:995\u001b[0m, in \u001b[0;36mHeteroGraphIndex.node_subgraph\u001b[0;34m(self, induced_nodes, relabel_nodes)\u001b[0m\n\u001b[1;32m    978\u001b[0m \u001b[39m\u001b[39m\u001b[39m\"\"\"Return the induced node subgraph.\u001b[39;00m\n\u001b[1;32m    979\u001b[0m \n\u001b[1;32m    980\u001b[0m \u001b[39mParameters\u001b[39;00m\n\u001b[0;32m   (...)\u001b[0m\n\u001b[1;32m    992\u001b[0m \u001b[39m    The subgraph index.\u001b[39;00m\n\u001b[1;32m    993\u001b[0m \u001b[39m\"\"\"\u001b[39;00m\n\u001b[1;32m    994\u001b[0m vids \u001b[39m=\u001b[39m [F\u001b[39m.\u001b[39mto_dgl_nd(nodes) \u001b[39mfor\u001b[39;00m nodes \u001b[39min\u001b[39;00m induced_nodes]\n\u001b[0;32m--> 995\u001b[0m \u001b[39mreturn\u001b[39;00m _CAPI_DGLHeteroVertexSubgraph(\u001b[39mself\u001b[39;49m, vids, relabel_nodes)\n",
      "File \u001b[0;32mdgl/_ffi/_cython/./function.pxi:295\u001b[0m, in \u001b[0;36mdgl._ffi._cy3.core.FunctionBase.__call__\u001b[0;34m()\u001b[0m\n",
      "File \u001b[0;32mdgl/_ffi/_cython/./function.pxi:227\u001b[0m, in \u001b[0;36mdgl._ffi._cy3.core.FuncCall\u001b[0;34m()\u001b[0m\n",
      "File \u001b[0;32mdgl/_ffi/_cython/./function.pxi:217\u001b[0m, in \u001b[0;36mdgl._ffi._cy3.core.FuncCall3\u001b[0;34m()\u001b[0m\n",
      "\u001b[0;31mDGLError\u001b[0m: [18:20:31] /opt/dgl/src/graph/heterograph_capi.cc:407: Check failed: relabel_nodes: Node subgraph only supports relabel_nodes=True.\nStack trace:\n  [bt] (0) /opt/conda/envs/graph/lib/python3.8/site-packages/dgl/libdgl.so(dmlc::LogMessageFatal::~LogMessageFatal()+0x4f) [0x7f46e73107bf]\n  [bt] (1) /opt/conda/envs/graph/lib/python3.8/site-packages/dgl/libdgl.so(+0x737dd0) [0x7f46e76a0dd0]\n  [bt] (2) /opt/conda/envs/graph/lib/python3.8/site-packages/dgl/libdgl.so(DGLFuncCall+0x48) [0x7f46e7624308]\n  [bt] (3) /opt/conda/envs/graph/lib/python3.8/site-packages/dgl/_ffi/_cy3/core.cpython-38-x86_64-linux-gnu.so(+0x171fc) [0x7f46e6f601fc]\n  [bt] (4) /opt/conda/envs/graph/lib/python3.8/site-packages/dgl/_ffi/_cy3/core.cpython-38-x86_64-linux-gnu.so(+0x1772b) [0x7f46e6f6072b]\n  [bt] (5) /opt/conda/envs/graph/bin/python(_PyObject_MakeTpCall+0x3bb) [0x4e0c8b]\n  [bt] (6) /opt/conda/envs/graph/bin/python(_PyEval_EvalFrameDefault+0x4907) [0x4dc8f7]\n  [bt] (7) /opt/conda/envs/graph/bin/python() [0x4f50d6]\n  [bt] (8) /opt/conda/envs/graph/bin/python(_PyEval_EvalFrameDefault+0x49a9) [0x4dc999]\n\n"
     ]
    }
   ],
   "source": [
    "import torch\n",
    "import networkx as nx\n",
    "import matplotlib.pyplot as plt\n",
    "import dgl\n",
    "# import numpy as np\n",
    "\n",
    "g = dgl.DGLGraph()\n",
    "# g.add_edges([0, 1, 1, 2, 2, 3, 3, 4, 5, 6, 7, 8, 9, 0, 5, 6, 7, 8, 9, 4],\n",
    "#             [1, 2, 3, 0, 4, 5, 6, 7, 8, 9, 0, 1, 2, 6, 7, 8, 9, 3, 4, 5])\n",
    "g.add_edges(\n",
    "    [1,1,2,2,4,5,5, 0],\n",
    "    [7,3,3,4,5,8,6, 7]\n",
    ")\n",
    "g = dgl.to_bidirected(g)\n",
    "\n",
    "# print(subg.edge)\n",
    "# 将DGL图转换为networkx图\n",
    "nx_g = g.to_networkx()\n",
    "\n",
    "# 创建matplotlib图形对象\n",
    "fig, ax = plt.subplots()\n",
    "\n",
    "# 可视化networkx图\n",
    "pos = nx.kamada_kawai_layout(nx_g)\n",
    "nx.draw(nx_g, pos=pos, with_labels=True, ax=ax)\n",
    "plt.show()\n",
    "\n",
    "subg = g.khop_out_subgraph([3,5], 1, relabel_nodes=False, store_ids=True, output_device='cpu')\n",
    "# g = g.to(torch.device('cuda'))\n",
    "\n",
    "# nodes = torch.tensor([1,5,9],device=\"cuda\")\n",
    "\n",
    "print(subg)\n",
    "# print(inverse_indices)\n",
    "\n",
    "# subg = g.khop_out_subgraph([3,5], 1)\n",
    "\n",
    "# print(subg.edge)\n",
    "# 将DGL图转换为networkx图\n",
    "nx_g2 = subg.to_networkx()\n",
    "\n",
    "# 创建matplotlib图形对象\n",
    "fig2, ax2 = plt.subplots()\n",
    "\n",
    "# 可视化networkx图\n",
    "pos2 = nx.kamada_kawai_layout(nx_g2)\n",
    "nx.draw(nx_g2, pos=pos2, with_labels=True, ax=ax2)\n",
    "plt.show()\n",
    "\n",
    "print(g.edges())\n",
    "print(subg.edges())\n",
    "subg.edata[dgl.EID]\n",
    "# print(get_all_neighbors(g,nodes,1))\n"
   ]
  },
  {
   "cell_type": "code",
   "execution_count": 47,
   "metadata": {},
   "outputs": [
    {
     "name": "stdout",
     "output_type": "stream",
     "text": [
      "1.10.1\n"
     ]
    },
    {
     "name": "stderr",
     "output_type": "stream",
     "text": [
      "/opt/conda/envs/graph/lib/python3.8/site-packages/dgl/heterograph.py:72: DGLWarning: Recommend creating graphs by `dgl.graph(data)` instead of `dgl.DGLGraph(data)`.\n",
      "  dgl_warning('Recommend creating graphs by `dgl.graph(data)`'\n"
     ]
    },
    {
     "data": {
      "image/png": "[encoded data removed]",
      "text/plain": [
       "<Figure size 640x480 with 1 Axes>"
      ]
     },
     "metadata": {},
     "output_type": "display_data"
    },
    {
     "ename": "TypeError",
     "evalue": "get_all_neighbors() missing 2 required positional arguments: 'nodes' and 'neighbor_mat'",
     "output_type": "error",
     "traceback": [
      "\u001b[0;31m---------------------------------------------------------------------------\u001b[0m",
      "\u001b[0;31mTypeError\u001b[0m                                 Traceback (most recent call last)",
      "Cell \u001b[0;32mIn[47], line 90\u001b[0m\n\u001b[1;32m     86\u001b[0m plt\u001b[39m.\u001b[39mshow()\n\u001b[1;32m     88\u001b[0m temp_tensor \u001b[39m=\u001b[39m torch\u001b[39m.\u001b[39mtensor([\u001b[39m1\u001b[39m,\u001b[39m2\u001b[39m,\u001b[39m3\u001b[39m,\u001b[39m4\u001b[39m,\u001b[39m5\u001b[39m,\u001b[39m6\u001b[39m,\u001b[39m7\u001b[39m,\u001b[39m8\u001b[39m,\u001b[39m9\u001b[39m,\u001b[39m10\u001b[39m])\u001b[39m.\u001b[39mto(torch\u001b[39m.\u001b[39mdevice(\u001b[39m'\u001b[39m\u001b[39mcuda\u001b[39m\u001b[39m'\u001b[39m))\n\u001b[0;32m---> 90\u001b[0m mask_nodes, central_nodes \u001b[39m=\u001b[39m mask(g, temp_tensor, \u001b[39m2\u001b[39;49m, \u001b[39m2\u001b[39;49m, \u001b[39m3\u001b[39;49m)\n\u001b[1;32m     92\u001b[0m \u001b[39mprint\u001b[39m(mask_nodes)\n\u001b[1;32m     93\u001b[0m \u001b[39mprint\u001b[39m(central_nodes)\n",
      "Cell \u001b[0;32mIn[47], line 47\u001b[0m, in \u001b[0;36mmask\u001b[0;34m(g, x, num, depth, ring_width)\u001b[0m\n\u001b[1;32m     44\u001b[0m \u001b[39massert\u001b[39;00m central_nodes\u001b[39m.\u001b[39mis_cuda \u001b[39m==\u001b[39m \u001b[39mTrue\u001b[39;00m\n\u001b[1;32m     46\u001b[0m \u001b[39m# 外圆节点集合(含中心点)\u001b[39;00m\n\u001b[0;32m---> 47\u001b[0m connected_nodes \u001b[39m=\u001b[39m get_all_neighbors(g, central_nodes, depth\u001b[39m=\u001b[39;49mdepth)\n\u001b[1;32m     48\u001b[0m \u001b[39massert\u001b[39;00m \u001b[39mtype\u001b[39m(connected_nodes) \u001b[39m==\u001b[39m torch\u001b[39m.\u001b[39mTensor\n\u001b[1;32m     49\u001b[0m mask_nodes \u001b[39m=\u001b[39m torch\u001b[39m.\u001b[39munion(central_nodes, connected_nodes)\n",
      "\u001b[0;31mTypeError\u001b[0m: get_all_neighbors() missing 2 required positional arguments: 'nodes' and 'neighbor_mat'"
     ]
    }
   ],
   "source": [
    "import functools\n",
    "\n",
    "\n",
    "def get_all_neighbors(graph:dgl.DGLGraph, central_nodes, nodes:torch.Tensor, neighbor_mat, depth:int):\n",
    "    \"\"\"多重递归获得邻居节点集合张量（逻辑上是集合，物理数据结构为torch.Tensor），且去重\n",
    "    Args:\n",
    "        graph (dgl.DGLGraph): 输入图\n",
    "        nodes (torch.Tensor): 中心节点集合张量，1*nodes_num\n",
    "        depth (int): 递归深度，为0时相当于点遮盖，直接返回nodes\n",
    "    Returns:\n",
    "        torch.Tensor: 所有中心点的邻居节点组成的无重复节点张量, 1*neighbors_num\n",
    "    \"\"\"\n",
    "    if depth == 0:\n",
    "        return central_nodes, torch.eye(neighbor_mat.shape[0])[central_nodes]\n",
    "    else:\n",
    "        \n",
    "        neighbors, neighbor_mat = get_all_neighbors(graph, central_nodes, nodes, neighbor_mat, depth-1)\n",
    "        neighbor_mat = (neighbor_mat @ graph.adjacency_matrix().to_dense())\n",
    "        neighbors = neighbor_mat.nonzero()[:,1]\n",
    "        neighbors = torch.unique(torch.cat([nodes, neighbors]))\n",
    "        return neighbors, neighbor_mat\n",
    "\n",
    "\n",
    "\n",
    "def mask(g:dgl.DGLGraph, x:torch.Tensor, num, depth, ring_width):\n",
    "    \"\"\"遮盖子图，返回遮盖节点集合和中心节点集合\n",
    "    Args:\n",
    "        g (dgl.DGLGraph): 输入图\n",
    "        x (torch.Tensor): 特征张量\n",
    "        num (int): 随机遮盖的子图数量（中心点数量）\n",
    "        depth (int, optional): 遮盖节点的邻居深度. Defaults to 1.\n",
    "    Returns:\n",
    "        torch.Tensor: mask_nodes, 遮盖节点集合\n",
    "        torch.Tensor: central_nodes, 中心节点集合，可以去除，仅用在需要查看中心节点特征的情况下，猜测当gcn层数为3时，递归深度低于3就可能导致中心节点特征丢失 todo\n",
    "    \"\"\"\n",
    "    assert 1 <= ring_width <= depth + 1, \"ring_width must be in [1, depth + 1]\"\n",
    "    num_nodes = g.num_nodes()\n",
    "    perm = torch.randperm(num_nodes, device=x.device)\n",
    "    central_nodes = perm[: num]\n",
    "    # print(central_nodes.device)\n",
    "    assert type(central_nodes) == torch.Tensor\n",
    "    central_nodes = central_nodes.to(x.device)\n",
    "    # print(nodes)\n",
    "    assert central_nodes.is_cuda == True\n",
    "\n",
    "    # 外圆节点集合(含中心点)\n",
    "    connected_nodes = get_all_neighbors(g, central_nodes, depth=depth)\n",
    "    assert type(connected_nodes) == torch.Tensor\n",
    "    mask_nodes = torch.union(central_nodes, connected_nodes)\n",
    "\n",
    "    # 内圆节点集合(含中心点)\n",
    "    not_mask_nodes = get_all_neighbors(g, central_nodes,  depth=ring_width-depth)\n",
    "    not_mask_nodes = torch.union(central_nodes, not_mask_nodes)\n",
    "\n",
    "    # 环形应遮盖节点集合，有于torch的集合操作，返回的mask_nodes一定是无重复的\n",
    "    mask_nodes = torch.setdiff1d(mask_nodes, not_mask_nodes)\n",
    "\n",
    "    return mask_nodes, central_nodes\n",
    "\n",
    "import torch\n",
    "import networkx as nx\n",
    "import matplotlib.pyplot as plt\n",
    "import dgl\n",
    "# import numpy as np\n",
    "\n",
    "print(torch.__version__)\n",
    "g = dgl.DGLGraph()\n",
    "# g.add_edges([0, 1, 1, 2, 2, 3, 3, 4, 5, 6, 7, 8, 9, 0, 5, 6, 7, 8, 9, 4],\n",
    "#             [1, 2, 3, 0, 4, 5, 6, 7, 8, 9, 0, 1, 2, 6, 7, 8, 9, 3, 4, 5])\n",
    "g.add_edges(\n",
    "    [1,1,2,2,4,5,5, 0],\n",
    "    [7,3,3,4,5,8,6, 7]\n",
    ")\n",
    "g = dgl.to_bidirected(g)\n",
    "\n",
    "# print(subg.edge)\n",
    "# 将DGL图转换为networkx图\n",
    "nx_g = g.to_networkx()\n",
    "\n",
    "# 创建matplotlib图形对象\n",
    "fig, ax = plt.subplots()\n",
    "\n",
    "# 可视化networkx图\n",
    "pos = nx.kamada_kawai_layout(nx_g)\n",
    "nx.draw(nx_g, pos=pos, with_labels=True, ax=ax)\n",
    "plt.show()\n",
    "\n",
    "temp_tensor = torch.tensor([1,2,3,4,5,6,7,8,9,10]).to(torch.device('cuda'))\n",
    "\n",
    "mask_nodes, central_nodes = mask(g, temp_tensor, 2, 2, 3)\n",
    "\n",
    "print(mask_nodes)\n",
    "print(central_nodes)\n",
    "print(g.adjacency_matrix().to_dense())\n",
    "adj_matrix = g.adjacency_matrix().to_dense()\n",
    "# 用矩阵运算的方式找邻居\n",
    "one_hot_central_nodes = torch.eye(adj_matrix.shape[0])[central_nodes]\n",
    "print(one_hot_central_nodes)\n",
    "print(one_hot_central_nodes @ adj_matrix)\n",
    "neighbors_idx = (one_hot_central_nodes @ adj_matrix).nonzero()\n",
    "neighbors_idx = neighbors_idx[:,1]\n",
    "print(neighbors_idx)\n",
    "neighbors_idx2 = (one_hot_central_nodes @ adj_matrix @ adj_matrix).nonzero()\n",
    "neighbors_idx2 = neighbors_idx2[:,1]\n",
    "print(neighbors_idx2)"
   ]
  },
  {
   "cell_type": "code",
   "execution_count": 12,
   "metadata": {},
   "outputs": [
    {
     "name": "stdout",
     "output_type": "stream",
     "text": [
      "tensor([1, 2, 3, 4, 5, 6, 7])\n"
     ]
    }
   ],
   "source": [
    "# torch取并集操作\n",
    "import torch\n",
    "import torch\n",
    "\n",
    "# Create two tensors\n",
    "a = torch.tensor([1, 2, 3, 4, 5])\n",
    "b = torch.tensor([3, 4, 5, 6, 7])\n",
    "\n",
    "# Compute the union\n",
    "c = torch.unique(torch.cat((a, b)))\n",
    "\n",
    "# Print the result\n",
    "print(c)  # Output: tensor([1, 2, 3, 4, 5, 6, 7])"
   ]
  },
  {
   "cell_type": "code",
   "execution_count": 13,
   "metadata": {},
   "outputs": [
    {
     "name": "stdout",
     "output_type": "stream",
     "text": [
      "tensor([1, 2])\n"
     ]
    }
   ],
   "source": [
    "# torch取差集操作\n",
    "import torch\n",
    "\n",
    "# Create two tensors\n",
    "a = torch.tensor([1, 2, 3, 4, 5])\n",
    "b = torch.tensor([3, 4, 5, 6, 7])\n",
    "\n",
    "# Compute the set difference\n",
    "c = torch.masked_select(a, torch.logical_not(torch.isin(a, b)))\n",
    "\n",
    "# Print the result\n",
    "print(c)  # Output: tensor([1, 2])"
   ]
  }
 ],
 "metadata": {
  "kernelspec": {
   "display_name": "Python 3 (ipykernel)",
   "language": "python",
   "name": "python3"
  },
  "language_info": {
   "codemirror_mode": {
    "name": "ipython",
    "version": 3
   },
   "file_extension": ".py",
   "mimetype": "text/x-python",
   "name": "python",
   "nbconvert_exporter": "python",
   "pygments_lexer": "ipython3",
   "version": "3.8.16"
  }
 },
 "nbformat": 4,
 "nbformat_minor": 4
}
